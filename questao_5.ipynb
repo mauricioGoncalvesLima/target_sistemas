{
 "cells": [
  {
   "cell_type": "code",
   "execution_count": 36,
   "metadata": {},
   "outputs": [
    {
     "name": "stdout",
     "output_type": "stream",
     "text": [
      "Insira uma sequência de caracteres: mauricio\n"
     ]
    }
   ],
   "source": [
    "#Input da frase\n",
    "frase = str(input('Insira uma sequência de caracteres: '))"
   ]
  },
  {
   "cell_type": "code",
   "execution_count": 37,
   "metadata": {},
   "outputs": [],
   "source": [
    "# Transformo a frase em lista e faço slicing com índice negativo\n",
    "frase = list(frase)\n",
    "frase_invertida = frase[::-1]"
   ]
  },
  {
   "cell_type": "code",
   "execution_count": 38,
   "metadata": {},
   "outputs": [
    {
     "name": "stdout",
     "output_type": "stream",
     "text": [
      "['m', 'a', 'u', 'r', 'i', 'c', 'i', 'o']\n",
      "['o', 'i', 'c', 'i', 'r', 'u', 'a', 'm']\n"
     ]
    }
   ],
   "source": [
    "# Print para teste\n",
    "print(frase)\n",
    "print(frase_invertida)"
   ]
  },
  {
   "cell_type": "code",
   "execution_count": 41,
   "metadata": {},
   "outputs": [],
   "source": [
    "#Join para unir os caracteres\n",
    "frase_invertida = ''.join(frase_invertida)"
   ]
  },
  {
   "cell_type": "code",
   "execution_count": 42,
   "metadata": {},
   "outputs": [
    {
     "name": "stdout",
     "output_type": "stream",
     "text": [
      "oiciruam\n"
     ]
    }
   ],
   "source": [
    "#Print para exibir o resultado\n",
    "print(frase_invertida)"
   ]
  },
  {
   "cell_type": "code",
   "execution_count": null,
   "metadata": {},
   "outputs": [],
   "source": []
  }
 ],
 "metadata": {
  "kernelspec": {
   "display_name": "Python 3",
   "language": "python",
   "name": "python3"
  },
  "language_info": {
   "codemirror_mode": {
    "name": "ipython",
    "version": 3
   },
   "file_extension": ".py",
   "mimetype": "text/x-python",
   "name": "python",
   "nbconvert_exporter": "python",
   "pygments_lexer": "ipython3",
   "version": "3.8.8"
  }
 },
 "nbformat": 4,
 "nbformat_minor": 2
}
