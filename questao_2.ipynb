{
 "cells": [
  {
   "cell_type": "code",
   "execution_count": 51,
   "metadata": {},
   "outputs": [],
   "source": [
    "'''A função contém dois índices, que serão usados para fazer a soma dos valores. A sequência é calculada enquanto\n",
    "o valor do último digito da sequencia for igual ou menor ao valor inserido. Quando o loop é encerrado, o if\n",
    "verifica se o número está ou não na sequencia.\n",
    "'''\n",
    "def fibonacci(n):\n",
    "    i = 0\n",
    "    j = 1\n",
    "    sequencia = [0, 1]\n",
    "    ultimo_digito = 0\n",
    "\n",
    "    while ultimo_digito <= n:\n",
    "        sequencia.append((sequencia[i] + sequencia[j]))\n",
    "        i=i+1\n",
    "        j=j+1\n",
    "        ultimo_digito = sequencia[j]\n",
    "    if n in sequencia:\n",
    "        return print(\"O número está na sequência de Fibonacci.\")\n",
    "    else:\n",
    "        return print(\"O número não está na sequência de Fibonacci.\")"
   ]
  },
  {
   "cell_type": "code",
   "execution_count": 54,
   "metadata": {},
   "outputs": [
    {
     "name": "stdout",
     "output_type": "stream",
     "text": [
      "Informe um número natural: 144\n"
     ]
    }
   ],
   "source": [
    "n = int(input(\"Informe um número natural: \"))"
   ]
  },
  {
   "cell_type": "code",
   "execution_count": 55,
   "metadata": {
    "scrolled": true
   },
   "outputs": [
    {
     "name": "stdout",
     "output_type": "stream",
     "text": [
      "O número está na sequência de Fibonacci.\n"
     ]
    }
   ],
   "source": [
    "fibonacci(n)"
   ]
  }
 ],
 "metadata": {
  "kernelspec": {
   "display_name": "Python 3",
   "language": "python",
   "name": "python3"
  },
  "language_info": {
   "codemirror_mode": {
    "name": "ipython",
    "version": 3
   },
   "file_extension": ".py",
   "mimetype": "text/x-python",
   "name": "python",
   "nbconvert_exporter": "python",
   "pygments_lexer": "ipython3",
   "version": "3.8.8"
  }
 },
 "nbformat": 4,
 "nbformat_minor": 2
}
